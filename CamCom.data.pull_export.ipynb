{
 "cells": [
  {
   "cell_type": "markdown",
   "metadata": {
    "application/vnd.databricks.v1+cell": {
     "cellMetadata": {
      "byteLimit": 2048000,
      "rowLimit": 10000
     },
     "inputWidgets": {},
     "nuid": "f7e76d5e-f474-49c2-9409-cb6101b51f51",
     "showTitle": false,
     "title": ""
    }
   },
   "source": [
    "#Environment Setting"
   ]
  },
  {
   "cell_type": "code",
   "execution_count": 0,
   "metadata": {
    "application/vnd.databricks.v1+cell": {
     "cellMetadata": {
      "byteLimit": 2048000,
      "rowLimit": 10000
     },
     "inputWidgets": {},
     "nuid": "879defb7-8e28-4ef6-9669-6f510cf04bb1",
     "showTitle": false,
     "title": ""
    }
   },
   "outputs": [],
   "source": [
    "#List of dependencies\n",
    "import os\n",
    "import shutil\n",
    "import copy\n",
    "import pandas as pd\n",
    "import paramiko\n",
    "import stat\n",
    "import datetime\n",
    "\n",
    "from fuzzywuzzy import fuzz\n",
    "from fuzzywuzzy import process\n",
    "\n"
   ]
  },
  {
   "cell_type": "markdown",
   "metadata": {
    "application/vnd.databricks.v1+cell": {
     "cellMetadata": {
      "byteLimit": 2048000,
      "rowLimit": 10000
     },
     "inputWidgets": {},
     "nuid": "fdd8ccd1-dc61-4e2b-9bcb-a5897ba66de1",
     "showTitle": false,
     "title": ""
    }
   },
   "source": [
    "#Extract 3 days' data"
   ]
  },
  {
   "cell_type": "code",
   "execution_count": 0,
   "metadata": {
    "application/vnd.databricks.v1+cell": {
     "cellMetadata": {
      "byteLimit": 2048000,
      "rowLimit": 10000
     },
     "inputWidgets": {},
     "nuid": "3873ddfb-9053-4a95-a78a-8a8a14857ce6",
     "showTitle": false,
     "title": ""
    }
   },
   "outputs": [],
   "source": [
    "import paramiko\n",
    "import stat\n",
    "import datetime\n",
    "import os\n",
    "from stat import S_ISDIR, S_ISREG \n",
    " \n",
    "host = \"xxxx\"\n",
    "username = \"xxxx\"\n",
    "password = \"xxxx\"\n",
    "port = 22\n",
    "\n",
    "transport = paramiko.Transport((host, port))\n",
    "\n",
    "remote_path = \"xxxx\"\n",
    "local_path = \"xxxx\"\n",
    "\n",
    "transport.connect(username = username, password = password)\n",
    "sftp = paramiko.SFTPClient.from_transport(transport)\n",
    "\n",
    "\n",
    "for i in os.listdir(PATH + local_path + \"xxxx\"):\n",
    "    if i.split('.')[1] == 'csv':\n",
    "        os.remove(PATH + local_path + \"xxxx\" + i)\n",
    "\n",
    "def sftp_get_recursive(path, dest, sftp):\n",
    "    subfolder_list = sftp.listdir_attr(path)\n",
    "    dest = str(dest)\n",
    "    \n",
    "    if not os.path.isdir(PATH+dest):\n",
    "        print(\"local folder does not exist\")\n",
    "        os.makedirs(PATH+dest, exist_ok=True)\n",
    "      \n",
    "    for subfolder in subfolder_list:\n",
    "        print(\"subfolder: \"+subfolder.filename)\n",
    "        item_list = sftp.listdir_attr(path+subfolder.filename)\n",
    "\n",
    "\n",
    "        #################create SFTP time for the file\n",
    "        df = pd.DataFrame(columns=['FileName','SFTP_Time'])\n",
    "        for item, i in zip(item_list,range(len(item_list))):\n",
    "            if stat.S_ISDIR(item.st_mode):\n",
    "                item_time = datetime.datetime.fromtimestamp(item.st_mtime)\n",
    "            else:\n",
    "                item_time = datetime.datetime.fromtimestamp(item.st_mtime)\n",
    "\n",
    "            file_name = item.filename\n",
    "            sftp_time = item_time\n",
    "            df.loc[i] = [file_name,sftp_time]\n",
    "        df.to_csv(PATH+dest + \"/\" + \"xxxx\" + subfolder.filename+'_time.csv', index=False)\n",
    "\n",
    "        for item in item_list:\n",
    "            if item.filename == 'images':\n",
    "                if (datetime.datetime.now().timetuple().tm_yday - datetime.datetime.fromtimestamp(item.st_mtime).timetuple().tm_yday) <=3:\n",
    "                    if stat.S_ISDIR(item.st_mode):\n",
    "                        if os.path.exists(PATH+dest + \"/\" + \"images/\" + subfolder.filename):\n",
    "                            for root, dirs, files in os.walk(PATH+dest + \"/\" + \"images/\" + subfolder.filename, topdown=False):\n",
    "                                for file in files:\n",
    "                                    file_path = os.path.join(root, file)\n",
    "                                    os.remove(file_path)\n",
    "                                for dir in dirs:\n",
    "                                    dir_path = os.path.join(root, dir)\n",
    "                                    os.rmdir(dir_path)\n",
    "                            # Remove the empty folder\n",
    "                            os.rmdir(PATH+dest + \"/\" + \"images/\" + subfolder.filename)\n",
    "                            os.mkdir(PATH+dest + \"/\" + \"images/\" + subfolder.filename)\n",
    "\n",
    "                        else:\n",
    "                            os.mkdir(PATH+dest + \"/\" + \"images/\" + subfolder.filename)\n",
    "                        for i in sftp.listdir_attr(path+subfolder.filename+\"/\"+item.filename):\n",
    "                            sftp.get(path + subfolder.filename+ \"/\" + item.filename + \"/\" + i.filename, PATH+dest + \"/\" + \"images/\" + subfolder.filename + \"/\" + i.filename)\n",
    "\n",
    "\n",
    "            if os.path.splitext(item.filename)[1]== \".csv\":\n",
    "                if (datetime.datetime.now().timetuple().tm_yday - datetime.datetime.fromtimestamp(item.st_mtime).timetuple().tm_yday) <=3:\n",
    "                    sftp.get(path + subfolder.filename+ \"/\" + item.filename, PATH+dest + \"/\" + \"camcom-data/\" + item.filename)\n",
    "\n",
    "    \n",
    "\n",
    "sftp_get_recursive(remote_path, local_path, sftp)\n",
    "\n",
    "sftp.close()\n",
    "transport.close()"
   ]
  },
  {
   "cell_type": "markdown",
   "metadata": {
    "application/vnd.databricks.v1+cell": {
     "cellMetadata": {
      "byteLimit": 2048000,
      "rowLimit": 10000
     },
     "inputWidgets": {},
     "nuid": "998511d6-42c0-466a-9d43-df5e7d158065",
     "showTitle": false,
     "title": ""
    }
   },
   "source": [
    "#Split data to failed/completed/review_completed"
   ]
  },
  {
   "cell_type": "code",
   "execution_count": 0,
   "metadata": {
    "application/vnd.databricks.v1+cell": {
     "cellMetadata": {
      "byteLimit": 2048000,
      "rowLimit": 10000
     },
     "inputWidgets": {},
     "nuid": "a5141077-dee2-4027-a7ef-53d8957af73d",
     "showTitle": false,
     "title": ""
    }
   },
   "outputs": [],
   "source": [
    "def clear_folder_except_file(folder_path, file_to_keep):\n",
    "    for filename in os.listdir(folder_path):\n",
    "        file_path = os.path.join(folder_path, filename)\n",
    "        \n",
    "        if filename != file_to_keep and os.path.isfile(file_path):\n",
    "            os.remove(file_path)\n",
    "            print(f\"Removed file: {filename}\")\n",
    "\n",
    "# Usage example\n",
    "folder_path = PATH + local_path + \"/camcom-completed\"\n",
    "file_to_keep = 'temp.txt'\n",
    "clear_folder_except_file(folder_path, file_to_keep)\n",
    "\n",
    "folder_path = PATH + local_path + \"/camcom-review failed\"\n",
    "file_to_keep = 'temp.txt'\n",
    "clear_folder_except_file(folder_path, file_to_keep)\n",
    "\n"
   ]
  },
  {
   "cell_type": "code",
   "execution_count": 0,
   "metadata": {
    "application/vnd.databricks.v1+cell": {
     "cellMetadata": {
      "byteLimit": 2048000,
      "rowLimit": 10000
     },
     "inputWidgets": {},
     "nuid": "d192c8ba-3ad1-49c4-9bdd-7a3212521b9a",
     "showTitle": false,
     "title": ""
    }
   },
   "outputs": [],
   "source": [
    "def extract_review_completed(folder_path, output_path):\n",
    "    for filename in os.listdir(folder_path):\n",
    "        if filename.endswith('.csv'):\n",
    "            base_name = os.path.splitext(filename)[0]\n",
    "            review_completed_file = base_name + '_review_completed.csv'\n",
    "            review_completed_path = os.path.join(folder_path, review_completed_file)\n",
    "\n",
    "            if os.path.isfile(review_completed_path):\n",
    "                source_path = os.path.join(folder_path, filename)\n",
    "                destination_path = os.path.join(output_path, filename)\n",
    "                shutil.copy(source_path, output_path)\n",
    "\n",
    "                source_completed_path = os.path.join(folder_path, review_completed_file)\n",
    "                destination_completed_path = os.path.join(output_path, review_completed_file)\n",
    "                shutil.copy(source_completed_path, output_path)\n",
    "\n",
    "folder_path = PATH + local_path + \"/camcom-data\"\n",
    "output_path = PATH + local_path + \"/camcon-review completed\"\n",
    "extract_review_completed(folder_path, output_path)\n",
    "\n",
    "def extract_completed(folder1_path, folder2_path):\n",
    "\n",
    "    for filename in os.listdir(folder1_path):\n",
    "        if filename.endswith('.csv') and '_review_completed' not in filename:\n",
    "            base_file_path = os.path.join(folder1_path, filename)\n",
    "            review_completed_file = filename.replace('.csv', '_review_completed.csv')\n",
    "            review_completed_path = os.path.join(folder1_path, review_completed_file)\n",
    "\n",
    "            if not os.path.isfile(review_completed_path):\n",
    "                with open(base_file_path, 'r') as base_file:\n",
    "                    content = base_file.read()\n",
    "                    if 'failed' not in content and 'completed' in content:\n",
    "                        destination_path = os.path.join(folder2_path, filename)\n",
    "                        shutil.copy(base_file_path, destination_path)\n",
    "\n",
    "folder1_path = PATH + local_path + \"/camcom-data\"\n",
    "folder2_path = PATH + local_path + \"/camcom-completed\"\n",
    "extract_completed(folder1_path, folder2_path)\n",
    "\n",
    "def extract_failed(folder1_path, folder2_path, folder3_path, folder4_path):\n",
    "    folder2_files = set(os.listdir(folder2_path))\n",
    "    folder3_files = set(os.listdir(folder3_path))\n",
    "\n",
    "    for filename in os.listdir(folder1_path):\n",
    "        if filename not in folder2_files and filename not in folder3_files:\n",
    "            source_path = os.path.join(folder1_path, filename)\n",
    "            destination_path = os.path.join(folder4_path, filename)\n",
    "            shutil.copy(source_path, destination_path)\n",
    "\n",
    "folder1_path = PATH + local_path + \"/camcom-data\"\n",
    "folder2_path = PATH + local_path + \"/camcon-review completed\"\n",
    "folder3_path = PATH + local_path + \"/camcom-completed\"\n",
    "folder4_path = PATH + local_path + \"/camcom-review failed\" \n",
    "extract_failed(folder1_path, folder2_path, folder3_path, folder4_path)\n",
    "\n",
    "\n",
    "def move_files(file_list, folder1_path, folder2_path):\n",
    "    for filename in file_list:\n",
    "        source_path = os.path.join(folder1_path, filename)\n",
    "        destination_path = os.path.join(folder2_path, filename)\n",
    "        shutil.move(source_path, destination_path)\n",
    "        print(f\"Moved file: {filename} to {folder2_path}\")\n",
    "\n",
    "# Usage example\n",
    "file_list = [\"xxxx\"]\n",
    "folder1_path = PATH + local_path + \"/camcom-review failed\" \n",
    "folder2_path = PATH + local_path + \"/camcom-completed\"\n",
    "move_files(file_list, folder1_path, folder2_path)\n",
    "\n",
    "\n",
    "\n",
    "\n"
   ]
  },
  {
   "cell_type": "code",
   "execution_count": 0,
   "metadata": {
    "application/vnd.databricks.v1+cell": {
     "cellMetadata": {
      "byteLimit": 2048000,
      "rowLimit": 10000
     },
     "inputWidgets": {},
     "nuid": "d3c918fc-c91f-4fa6-9655-b426b9df3a88",
     "showTitle": false,
     "title": ""
    }
   },
   "outputs": [],
   "source": [
    "def count_files_in_folder(folder_path):\n",
    "    file_count = 0\n",
    "    for _, _, files in os.walk(folder_path):\n",
    "        file_count += len(files)\n",
    "    return file_count\n",
    "\n",
    "\n",
    "folder_path = PATH + local_path + \"/camcon-review completed\"\n",
    "total_files_1 = (count_files_in_folder(folder_path)-1)/2\n",
    "print(f\"Total number of files in {folder_path}: {total_files_1}\")\n",
    "\n",
    "folder_path = PATH + local_path + \"/camcom-completed\"\n",
    "total_files_2 = count_files_in_folder(folder_path) -1\n",
    "print(f\"Total number of files in {folder_path}: {total_files_2}\")\n",
    "\n",
    "folder_path = PATH + local_path + \"/camcom-review failed\"\n",
    "total_files_3 = count_files_in_folder(folder_path)-2 \n",
    "print(f\"Total number of files in {folder_path}: {total_files_3}\")\n",
    "\n",
    "folder_path = PATH + local_path + \"/camcom-data\"\n",
    "total_files = count_files_in_folder(folder_path)-2-total_files_1\n",
    "print(f\"Total number of files in {folder_path}: {total_files}\")\n",
    "\n",
    "print(total_files_1+total_files_2+total_files_3)\n",
    "\n"
   ]
  },
  {
   "cell_type": "code",
   "execution_count": 0,
   "metadata": {
    "application/vnd.databricks.v1+cell": {
     "cellMetadata": {
      "byteLimit": 2048000,
      "rowLimit": 10000
     },
     "inputWidgets": {},
     "nuid": "baedca3a-632f-42c5-989d-b57dd59cd1c8",
     "showTitle": false,
     "title": ""
    }
   },
   "outputs": [],
   "source": []
  }
 ],
 "metadata": {
  "application/vnd.databricks.v1+notebook": {
   "dashboards": [],
   "language": "python",
   "notebookMetadata": {
    "mostRecentlyExecutedCommandWithImplicitDF": {
     "commandId": 2346238087798349,
     "dataframes": [
      "_sqldf"
     ]
    },
    "pythonIndentUnit": 4
   },
   "notebookName": "CamCom.data.pull_export",
   "widgets": {}
  }
 },
 "nbformat": 4,
 "nbformat_minor": 0
}
